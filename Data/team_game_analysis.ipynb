# team_game_analysis.ipynb

import pandas as pd
import matplotlib.pyplot as plt

# === Load and Preview Data ===
df = pd.read_csv("jn_data_v1.csv")  # replace with your filename

# Rename columns for easier access
df.columns = [
    "session_id", "round_id", "timestamp_ms", "letter_shown", "button_pressed", 
    "correct_press", "missed_opportunity", "vibration_event", "vibration_duration_ms", 
    "vibration_count", "progress", "score", "time_left_ms"
]

# Convert timestamp from ms to seconds
df["timestamp_sec"] = df["timestamp_ms"] / 1000
df["time_elapsed"] = df["timestamp_sec"] - df.groupby("round_id")["timestamp_sec"].transform("min")

# === Summary Stats ===
print("Sessions:", df["session_id"].nunique())
print("Rounds:", df["round_id"].nunique())
print("Total button presses:", df["button_pressed"].sum())
print("Correct presses:", df["correct_press"].sum())
print("Missed opportunities:", df["missed_opportunity"].sum())

# === Score per Round ===
round_scores = df.groupby("round_id")["score"].max()
print("\nScore per round:\n", round_scores)

# === Visualization: Score per Round ===
round_scores.plot(kind='bar', figsize=(10, 4), title="Score per Round")
plt.ylabel("TEAMs Completed")
plt.xlabel("Round ID")
plt.grid(True)
plt.tight_layout()
plt.show()

# === Visualization: Missed Opportunities ===
missed_by_round = df.groupby("round_id")["missed_opportunity"].sum()
missed_by_round.plot(kind='bar', color='orange', title="Missed Opportunities per Round")
plt.ylabel("Missed")
plt.xlabel("Round ID")
plt.grid(True)
plt.tight_layout()
plt.show()
